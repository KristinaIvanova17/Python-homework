{
 "cells": [
  {
   "cell_type": "code",
   "execution_count": 1,
   "metadata": {},
   "outputs": [],
   "source": [
    "phrase_1 = 'Насколько проще было бы писать программы, если бы не заказчики'"
   ]
  },
  {
   "cell_type": "code",
   "execution_count": 2,
   "metadata": {},
   "outputs": [],
   "source": [
    "phrase_2 = '640Кб должно хватить для любых задач. Билл Гейтс (по легенде)'"
   ]
  },
  {
   "cell_type": "code",
   "execution_count": 3,
   "metadata": {},
   "outputs": [],
   "source": [
    "x=len('640Кб должно хватить для любых задач. Билл Гейтс (по легенде)') \n"
   ]
  },
  {
   "cell_type": "code",
   "execution_count": 4,
   "metadata": {},
   "outputs": [],
   "source": [
    "y=len('Насколько проще было бы писать программы, если бы не заказчики')"
   ]
  },
  {
   "cell_type": "code",
   "execution_count": 5,
   "metadata": {},
   "outputs": [
    {
     "name": "stdout",
     "output_type": "stream",
     "text": [
      "Фраза 1 длиннее фразы 2\n"
     ]
    }
   ],
   "source": [
    "if x>y:\n",
    "    print('Фраза 2 длиннее фразы 1')\n",
    "else:print ('Фраза 1 длиннее фразы 2')"
   ]
  },
  {
   "cell_type": "code",
   "execution_count": 6,
   "metadata": {},
   "outputs": [],
   "source": [
    "phrase_1 = '640Кб должно хватить для любых задач. Билл Гейтс (по легенде)'\n",
    "phrase_2 = 'Насколько проще было бы писать программы, если бы не заказчики'\n"
   ]
  },
  {
   "cell_type": "code",
   "execution_count": 7,
   "metadata": {},
   "outputs": [],
   "source": [
    "x=len('640Кб должно хватить для любых задач. Билл Гейтс (по легенде)')"
   ]
  },
  {
   "cell_type": "code",
   "execution_count": 8,
   "metadata": {},
   "outputs": [],
   "source": [
    "y=len('Насколько проще было бы писать программы, если бы не заказчики')"
   ]
  },
  {
   "cell_type": "code",
   "execution_count": 9,
   "metadata": {},
   "outputs": [
    {
     "name": "stdout",
     "output_type": "stream",
     "text": [
      "Фраза 2 длиннее фразы 1\n"
     ]
    }
   ],
   "source": [
    "if x>y:\n",
    "    print('Фраза 1 длиннее фразы 2')\n",
    "else:print ('Фраза 2 длиннее фразы 1')"
   ]
  },
  {
   "cell_type": "code",
   "execution_count": 10,
   "metadata": {},
   "outputs": [],
   "source": [
    "x=len('Насколько проще было бы писать программы, если бы не заказчики')"
   ]
  },
  {
   "cell_type": "code",
   "execution_count": 11,
   "metadata": {},
   "outputs": [],
   "source": [
    "y=len('Насколько проще было бы писать программы, если бы не заказчики')\n"
   ]
  },
  {
   "cell_type": "code",
   "execution_count": 12,
   "metadata": {},
   "outputs": [
    {
     "name": "stdout",
     "output_type": "stream",
     "text": [
      "Фразы равной длины\n"
     ]
    }
   ],
   "source": [
    "if x>y:\n",
    "    print('Фраза 1 длиннее фразы 2')\n",
    "elif y<x:\n",
    "    print ('Фраза 2 длиннее фразы 1')\n",
    "else: print('Фразы равной длины')"
   ]
  },
  {
   "cell_type": "code",
   "execution_count": 13,
   "metadata": {},
   "outputs": [
    {
     "name": "stdout",
     "output_type": "stream",
     "text": [
      "2020 Високосный год\n"
     ]
    }
   ],
   "source": [
    "x = 2020\n",
    "if x % 4 == 0:\n",
    "   print(x,'Високосный год')\n",
    "else: print ()"
   ]
  },
  {
   "cell_type": "code",
   "execution_count": 14,
   "metadata": {},
   "outputs": [
    {
     "name": "stdout",
     "output_type": "stream",
     "text": [
      "Четное число\n"
     ]
    }
   ],
   "source": [
    "x = 2020\n",
    "if x % 4 == 0:\n",
    "    print('Четное число')\n",
    "else:\n",
    "    print('Нечентное число')"
   ]
  },
  {
   "cell_type": "code",
   "execution_count": null,
   "metadata": {},
   "outputs": [],
   "source": [
    "a = int(input('Введите дату рождения'))\n"
   ]
  },
  {
   "cell_type": "code",
   "execution_count": null,
   "metadata": {},
   "outputs": [],
   "source": [
    "b = int(input('Введите месяц рождения'))"
   ]
  },
  {
   "cell_type": "code",
   "execution_count": 1,
   "metadata": {},
   "outputs": [
    {
     "name": "stdout",
     "output_type": "stream",
     "text": [
      "Введите дату рождения 17\n",
      "Введите месяц рождения Декабрь\n",
      "Ваш знак зодиака:Стрелец\n"
     ]
    }
   ],
   "source": [
    "a = int(input('Введите дату рождения '))\n",
    "b = str(input('Введите месяц рождения '))\n",
    "if (a<=20) and (b == 'Январь'):\n",
    "   print('Ваш знак зодиака:Козерог')\n",
    "elif (a>20) and (b == 'Январь'):\n",
    "    print('Ваш знак зодиака:Водолей')\n",
    "elif (a<=18) and (b == 'Февраль'):  \n",
    "  print ('Ваш знак зодиака:Водолей')\n",
    "elif (a>18) and (b == 'Февраль'):  \n",
    "  print ('Ваш знак зодиака:Рыбы')\n",
    "elif (a<=20) and (b == 'Март'):\n",
    "   print ('Ваш знак зодиака:Рыбы') \n",
    "elif (a>20) and (b == 'Март'):   \n",
    "   print ('Ваш знак зодиака:Овен') \n",
    "elif (a<=19) and (b == 'Апрель'): \n",
    "  print ('Ваш знак зодиака:Овен')\n",
    "elif (a>19) and (b == 'Апрель'):\n",
    "   print ('Ваш знак зодиака:Телец')  \n",
    "elif (a<=20) and (b == 'Май'):\n",
    "   print ('Ваш знак зодиака:Телец') \n",
    "elif (a>20) and (b == 'Май'):\n",
    "   print ('Ваш знак зодиака:Близнецы') \n",
    "elif (a<=21) and (b == 'Июнь'):\n",
    "   print ('Ваш знак зодиака:Близнецы') \n",
    "elif (a>=22) and (b == 'Июнь'):\n",
    "  print ('Ваш знак зодиака:Рак') \n",
    "elif (a<23) and (b == 'Июль'):\n",
    "  print ('Ваш знак зодиака:Рак') \n",
    "elif (a>=23) and (b == 'Июль'):\n",
    "  print ('Ваш знак зодиака:Лев')\n",
    "elif (a<23) and (b == 'Август'):\n",
    "  print ('Ваш знак зодиака:Лев')\n",
    "elif (a>=23) and (b == 'Август'):\n",
    "  print ('Ваш знак зодиака:Дева')\n",
    "elif (a<23) and (b == 'Cентябрь'):\n",
    "  print ('Ваш знак зодиака:Дева')\n",
    "elif (a>=23) and (b == 'Cентябрь'):\n",
    "  print ('Ваш знак зодиака:Весы')  \n",
    "elif (a<24) and (b == 'Октябрь'):\n",
    "  print ('Ваш знак зодиака:Весы') \n",
    "elif (a>=24) and (b == 'Октябрь'):\n",
    "  print ('Ваш знак зодиака:Скорпион') \n",
    "elif (a<23) and (b == 'Ноябрь'):\n",
    "  print ('Ваш знак зодиака:Скорпион') \n",
    "elif (a>=23) and (b == 'Ноябрь'):\n",
    "  print ('Ваш знак зодиака:Стрелец') \n",
    "elif (a<22) and (b == 'Декабрь'):\n",
    "  print ('Ваш знак зодиака:Стрелец')  \n",
    "elif (a>=22) and (b == 'Декабрь'):\n",
    "  print ('Ваш знак зодиака:Козерог')  \n"
   ]
  },
  {
   "cell_type": "code",
   "execution_count": 1,
   "metadata": {},
   "outputs": [
    {
     "name": "stdout",
     "output_type": "stream",
     "text": [
      "Упаковка для лыж\n"
     ]
    }
   ],
   "source": [
    "width = 10\n",
    "length = 205\n",
    "height = 5\n",
    "if (width<15) and (length<15) and (height<15):\n",
    "   print('Коробка №1')\n",
    "elif (15<width<50) and (15<length<50) and (15<height<50):\n",
    "   print('Коробка №2')\n",
    "elif length > 200:\n",
    "   print('Упаковка для лыж')\n",
    "else:  print (\"Стандартная коробка №3\")\n",
    "    "
   ]
  },
  {
   "cell_type": "code",
   "execution_count": null,
   "metadata": {},
   "outputs": [],
   "source": [
    "\n"
   ]
  },
  {
   "cell_type": "code",
   "execution_count": null,
   "metadata": {},
   "outputs": [],
   "source": []
  }
 ],
 "metadata": {
  "kernelspec": {
   "display_name": "Python 3",
   "language": "python",
   "name": "python3"
  },
  "language_info": {
   "codemirror_mode": {
    "name": "ipython",
    "version": 3
   },
   "file_extension": ".py",
   "mimetype": "text/x-python",
   "name": "python",
   "nbconvert_exporter": "python",
   "pygments_lexer": "ipython3",
   "version": "3.8.3"
  }
 },
 "nbformat": 4,
 "nbformat_minor": 4
}
